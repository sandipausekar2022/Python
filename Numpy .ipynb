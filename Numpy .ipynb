{
 "cells": [
  {
   "cell_type": "markdown",
   "id": "d263c566",
   "metadata": {},
   "source": [
    "# Numpy\n",
    "* NumPy is a general-purpose array-processing package.\n",
    "* Numpy was created to work with multidmensional arrays.\n",
    "* It is the fundamental package for scientific computing with Python.\n",
    "* It is open-source library"
   ]
  },
  {
   "cell_type": "markdown",
   "id": "c1c77cd3",
   "metadata": {},
   "source": [
    "# Why Use NumPy?\n",
    "* In Python we have lists that serve the purpose of arrays, but they are slow to process.\n",
    "* NumPy aims to provide an array object that is up to 50x faster than traditional Python lists.\n",
    "* The array object in NumPy is called ndarray, it provides a lot of supporting functions that make working with ndarray very easy.\n",
    "* Arrays are very frequently used in data science, where speed and resources are very important."
   ]
  },
  {
   "cell_type": "code",
   "execution_count": 5,
   "id": "4c1697dc",
   "metadata": {
    "ExecuteTime": {
     "end_time": "2022-12-06T08:11:31.156236Z",
     "start_time": "2022-12-06T08:11:28.128250Z"
    }
   },
   "outputs": [
    {
     "name": "stdout",
     "output_type": "stream",
     "text": [
      "Requirement already satisfied: numpy in c:\\users\\sandip\\anaconda3\\lib\\site-packages (1.21.5)\n"
     ]
    }
   ],
   "source": [
    "! pip install numpy"
   ]
  },
  {
   "cell_type": "code",
   "execution_count": 4,
   "id": "896867a9",
   "metadata": {
    "ExecuteTime": {
     "end_time": "2022-12-06T17:05:03.665580Z",
     "start_time": "2022-12-06T17:05:03.469126Z"
    }
   },
   "outputs": [],
   "source": [
    "#Importing necessary library\n",
    "import numpy as np"
   ]
  },
  {
   "cell_type": "code",
   "execution_count": 6,
   "id": "17904424",
   "metadata": {
    "ExecuteTime": {
     "end_time": "2022-12-06T17:05:34.611715Z",
     "start_time": "2022-12-06T17:05:34.598843Z"
    }
   },
   "outputs": [
    {
     "data": {
      "text/plain": [
       "numpy.ndarray"
      ]
     },
     "execution_count": 6,
     "metadata": {},
     "output_type": "execute_result"
    }
   ],
   "source": [
    "# Array creation\n",
    "a=np.array(10)\n",
    "type(a)"
   ]
  },
  {
   "cell_type": "code",
   "execution_count": 7,
   "id": "d4fd9355",
   "metadata": {
    "ExecuteTime": {
     "end_time": "2022-12-06T17:06:43.130723Z",
     "start_time": "2022-12-06T17:06:43.116229Z"
    }
   },
   "outputs": [],
   "source": [
    "# Zero dimesional array -(single point)"
   ]
  },
  {
   "cell_type": "code",
   "execution_count": 9,
   "id": "3907301b",
   "metadata": {
    "ExecuteTime": {
     "end_time": "2022-12-06T17:08:01.354755Z",
     "start_time": "2022-12-06T17:08:01.342237Z"
    }
   },
   "outputs": [
    {
     "data": {
      "text/plain": [
       "0"
      ]
     },
     "execution_count": 9,
     "metadata": {},
     "output_type": "execute_result"
    }
   ],
   "source": [
    "z=np.array(10)\n",
    "\n",
    "z.ndim"
   ]
  },
  {
   "cell_type": "code",
   "execution_count": 10,
   "id": "c0e7a548",
   "metadata": {
    "ExecuteTime": {
     "end_time": "2022-12-06T17:08:30.550267Z",
     "start_time": "2022-12-06T17:08:30.541221Z"
    }
   },
   "outputs": [],
   "source": [
    "# One dimesional array"
   ]
  },
  {
   "cell_type": "code",
   "execution_count": 18,
   "id": "2c9323e0",
   "metadata": {
    "ExecuteTime": {
     "end_time": "2022-12-06T17:12:46.625510Z",
     "start_time": "2022-12-06T17:12:46.618713Z"
    }
   },
   "outputs": [
    {
     "data": {
      "text/plain": [
       "1"
      ]
     },
     "execution_count": 18,
     "metadata": {},
     "output_type": "execute_result"
    }
   ],
   "source": [
    "o=np.array([10,11,12])\n",
    "\n",
    "o.ndim"
   ]
  },
  {
   "cell_type": "code",
   "execution_count": null,
   "id": "194e520c",
   "metadata": {},
   "outputs": [],
   "source": [
    "# Two dimensional array"
   ]
  },
  {
   "cell_type": "code",
   "execution_count": 20,
   "id": "e44dc95b",
   "metadata": {
    "ExecuteTime": {
     "end_time": "2022-12-06T17:13:05.255175Z",
     "start_time": "2022-12-06T17:13:05.246303Z"
    }
   },
   "outputs": [
    {
     "data": {
      "text/plain": [
       "2"
      ]
     },
     "execution_count": 20,
     "metadata": {},
     "output_type": "execute_result"
    }
   ],
   "source": [
    "t=np.array([[10,11,12,13,13]])\n",
    "\n",
    "t.ndim"
   ]
  },
  {
   "cell_type": "code",
   "execution_count": 16,
   "id": "927676e5",
   "metadata": {
    "ExecuteTime": {
     "end_time": "2022-12-06T17:11:47.848658Z",
     "start_time": "2022-12-06T17:11:47.835581Z"
    }
   },
   "outputs": [],
   "source": [
    "# Three dimensional array"
   ]
  },
  {
   "cell_type": "code",
   "execution_count": 22,
   "id": "68495a6a",
   "metadata": {
    "ExecuteTime": {
     "end_time": "2022-12-06T17:14:46.351405Z",
     "start_time": "2022-12-06T17:14:46.344442Z"
    }
   },
   "outputs": [
    {
     "data": {
      "text/plain": [
       "3"
      ]
     },
     "execution_count": 22,
     "metadata": {},
     "output_type": "execute_result"
    }
   ],
   "source": [
    "th=np.array([[[10,12,24,25]]])\n",
    "\n",
    "th.ndim"
   ]
  },
  {
   "cell_type": "code",
   "execution_count": 23,
   "id": "005a3e92",
   "metadata": {
    "ExecuteTime": {
     "end_time": "2022-12-06T17:15:29.486107Z",
     "start_time": "2022-12-06T17:15:29.476591Z"
    }
   },
   "outputs": [],
   "source": [
    "#Change the data type of the array elements."
   ]
  },
  {
   "cell_type": "code",
   "execution_count": 26,
   "id": "d8d80d0f",
   "metadata": {
    "ExecuteTime": {
     "end_time": "2022-12-06T17:24:45.305445Z",
     "start_time": "2022-12-06T17:24:45.281362Z"
    }
   },
   "outputs": [
    {
     "data": {
      "text/plain": [
       "dtype('int32')"
      ]
     },
     "execution_count": 26,
     "metadata": {},
     "output_type": "execute_result"
    }
   ],
   "source": [
    "a=np.array([10,11,12,13])\n",
    "\n",
    "a.dtype"
   ]
  },
  {
   "cell_type": "code",
   "execution_count": 35,
   "id": "84615372",
   "metadata": {
    "ExecuteTime": {
     "end_time": "2022-12-06T17:34:34.142998Z",
     "start_time": "2022-12-06T17:34:34.129400Z"
    }
   },
   "outputs": [
    {
     "name": "stdout",
     "output_type": "stream",
     "text": [
      "float64\n",
      "Hello\n"
     ]
    },
    {
     "data": {
      "text/plain": [
       "array([10., 11., 12., 14.])"
      ]
     },
     "execution_count": 35,
     "metadata": {},
     "output_type": "execute_result"
    }
   ],
   "source": [
    "a=np.array([10,11,12,14], dtype='float')\n",
    "# when we print all data then every time type the print()\n",
    "print(a.dtype)\n",
    "print('Hello')\n",
    "# It will be converted into float number\n",
    "a"
   ]
  },
  {
   "cell_type": "markdown",
   "id": "f9b8b621",
   "metadata": {},
   "source": [
    "# Other ways of creating an array\n",
    "1. arange\n",
    "2. linspace\n",
    "3. zeros\n",
    "4. ones\n",
    "5. random"
   ]
  },
  {
   "cell_type": "code",
   "execution_count": 38,
   "id": "e9306901",
   "metadata": {
    "ExecuteTime": {
     "end_time": "2022-12-06T17:40:38.112084Z",
     "start_time": "2022-12-06T17:40:38.096946Z"
    }
   },
   "outputs": [
    {
     "data": {
      "text/plain": [
       "array([ 1,  2,  3,  4,  5,  6,  7,  8,  9, 10, 11, 12, 13, 14, 15, 16, 17,\n",
       "       18, 19, 20])"
      ]
     },
     "execution_count": 38,
     "metadata": {},
     "output_type": "execute_result"
    }
   ],
   "source": [
    "# Arange- it's arrange sequensliy \n",
    "a=np.arange(1,21)\n",
    "a"
   ]
  },
  {
   "cell_type": "code",
   "execution_count": 40,
   "id": "3e4e50d2",
   "metadata": {
    "ExecuteTime": {
     "end_time": "2022-12-06T17:41:17.555851Z",
     "start_time": "2022-12-06T17:41:17.540639Z"
    }
   },
   "outputs": [
    {
     "data": {
      "text/plain": [
       "array([ 1,  3,  5,  7,  9, 11, 13, 15, 17, 19])"
      ]
     },
     "execution_count": 40,
     "metadata": {},
     "output_type": "execute_result"
    }
   ],
   "source": [
    "a=np.arange(1,21,2)\n",
    "a"
   ]
  },
  {
   "cell_type": "code",
   "execution_count": 47,
   "id": "b95b7821",
   "metadata": {
    "ExecuteTime": {
     "end_time": "2022-12-06T17:42:55.522321Z",
     "start_time": "2022-12-06T17:42:55.511251Z"
    }
   },
   "outputs": [
    {
     "data": {
      "text/plain": [
       "array([ 2,  4,  6,  8, 10, 12, 14, 16, 18, 20])"
      ]
     },
     "execution_count": 47,
     "metadata": {},
     "output_type": "execute_result"
    }
   ],
   "source": [
    "a=np.arange(2,21,2)\n",
    "\n",
    "a"
   ]
  },
  {
   "cell_type": "code",
   "execution_count": 32,
   "id": "c31b047e",
   "metadata": {
    "ExecuteTime": {
     "end_time": "2022-12-06T17:28:34.059719Z",
     "start_time": "2022-12-06T17:28:34.051803Z"
    }
   },
   "outputs": [
    {
     "data": {
      "text/plain": [
       "array([10., 11., 12., 14.])"
      ]
     },
     "execution_count": 32,
     "metadata": {},
     "output_type": "execute_result"
    }
   ],
   "source": [
    "# It wii be converted into float number\n",
    "a"
   ]
  },
  {
   "cell_type": "code",
   "execution_count": 48,
   "id": "da12e716",
   "metadata": {
    "ExecuteTime": {
     "end_time": "2022-12-06T17:43:26.575508Z",
     "start_time": "2022-12-06T17:43:26.572419Z"
    }
   },
   "outputs": [],
   "source": [
    "# linespace- Evenly spaced vaules "
   ]
  },
  {
   "cell_type": "markdown",
   "id": "aa7c7cc3",
   "metadata": {
    "ExecuteTime": {
     "end_time": "2022-12-06T17:55:45.788272Z",
     "start_time": "2022-12-06T17:55:45.775926Z"
    }
   },
   "source": [
    "b= np.linspace(1,5,15, retstep=True)\n",
    "b"
   ]
  },
  {
   "cell_type": "code",
   "execution_count": 58,
   "id": "99d383a5",
   "metadata": {
    "ExecuteTime": {
     "end_time": "2022-12-06T17:59:42.824160Z",
     "start_time": "2022-12-06T17:59:42.811772Z"
    }
   },
   "outputs": [],
   "source": [
    "# Zeros- its shows rows and columns(shape)"
   ]
  },
  {
   "cell_type": "code",
   "execution_count": 62,
   "id": "60b06e4e",
   "metadata": {
    "ExecuteTime": {
     "end_time": "2022-12-06T18:00:28.619014Z",
     "start_time": "2022-12-06T18:00:28.603636Z"
    }
   },
   "outputs": [
    {
     "data": {
      "text/plain": [
       "array([[0., 0.],\n",
       "       [0., 0.]])"
      ]
     },
     "execution_count": 62,
     "metadata": {},
     "output_type": "execute_result"
    }
   ],
   "source": [
    "z= np.zeros([2,2])\n",
    "z"
   ]
  },
  {
   "cell_type": "code",
   "execution_count": 64,
   "id": "83edc844",
   "metadata": {
    "ExecuteTime": {
     "end_time": "2022-12-06T18:01:08.843636Z",
     "start_time": "2022-12-06T18:01:08.830695Z"
    }
   },
   "outputs": [
    {
     "data": {
      "text/plain": [
       "array([[1., 1., 1., 1., 1.],\n",
       "       [1., 1., 1., 1., 1.],\n",
       "       [1., 1., 1., 1., 1.],\n",
       "       [1., 1., 1., 1., 1.],\n",
       "       [1., 1., 1., 1., 1.]])"
      ]
     },
     "execution_count": 64,
     "metadata": {},
     "output_type": "execute_result"
    }
   ],
   "source": [
    "o=np.ones([5,5])\n",
    "o"
   ]
  },
  {
   "cell_type": "code",
   "execution_count": 65,
   "id": "f2dd9031",
   "metadata": {
    "ExecuteTime": {
     "end_time": "2022-12-06T18:05:26.985679Z",
     "start_time": "2022-12-06T18:05:26.973785Z"
    }
   },
   "outputs": [],
   "source": [
    "# random - To take any rows and columns whateveryou want"
   ]
  },
  {
   "cell_type": "code",
   "execution_count": 67,
   "id": "35e63262",
   "metadata": {
    "ExecuteTime": {
     "end_time": "2022-12-06T18:05:54.608982Z",
     "start_time": "2022-12-06T18:05:54.596755Z"
    }
   },
   "outputs": [
    {
     "data": {
      "text/plain": [
       "array([[0.12293578, 0.66404476, 0.97962352, 0.46618668, 0.43648498],\n",
       "       [0.15291941, 0.6229416 , 0.80152396, 0.05518145, 0.70200822],\n",
       "       [0.30903642, 0.08215586, 0.49435447, 0.99045617, 0.40491047],\n",
       "       [0.93028578, 0.35674614, 0.68629314, 0.59527509, 0.18223106],\n",
       "       [0.91977524, 0.83944376, 0.41083925, 0.81966523, 0.49432956]])"
      ]
     },
     "execution_count": 67,
     "metadata": {},
     "output_type": "execute_result"
    }
   ],
   "source": [
    "r=np.random.rand(5,5)\n",
    "r"
   ]
  },
  {
   "cell_type": "code",
   "execution_count": 69,
   "id": "52e8b2cb",
   "metadata": {
    "ExecuteTime": {
     "end_time": "2022-12-06T18:08:28.555431Z",
     "start_time": "2022-12-06T18:08:28.531585Z"
    }
   },
   "outputs": [
    {
     "data": {
      "text/plain": [
       "array([3, 3, 2, 1, 0, 3, 2, 1, 0, 1])"
      ]
     },
     "execution_count": 69,
     "metadata": {},
     "output_type": "execute_result"
    }
   ],
   "source": [
    "# it's take random values who gives number and inbetween size.\n",
    "r=np.random.randint(5,size=10)\n",
    "r"
   ]
  },
  {
   "cell_type": "markdown",
   "id": "d0a0e8e6",
   "metadata": {},
   "source": [
    "# Slicing and Indexing of arrays"
   ]
  },
  {
   "cell_type": "code",
   "execution_count": 73,
   "id": "e9ed961b",
   "metadata": {
    "ExecuteTime": {
     "end_time": "2022-12-06T18:12:02.428156Z",
     "start_time": "2022-12-06T18:12:02.416047Z"
    }
   },
   "outputs": [
    {
     "data": {
      "text/plain": [
       "array([[1, 2, 3],\n",
       "       [4, 5, 6]])"
      ]
     },
     "execution_count": 73,
     "metadata": {},
     "output_type": "execute_result"
    }
   ],
   "source": [
    "a= np.array([[1,2,3], [4,5,6]])\n",
    "a"
   ]
  },
  {
   "cell_type": "code",
   "execution_count": 74,
   "id": "d2790041",
   "metadata": {
    "ExecuteTime": {
     "end_time": "2022-12-06T18:12:24.333766Z",
     "start_time": "2022-12-06T18:12:24.326762Z"
    }
   },
   "outputs": [
    {
     "data": {
      "text/plain": [
       "2"
      ]
     },
     "execution_count": 74,
     "metadata": {},
     "output_type": "execute_result"
    }
   ],
   "source": [
    "a.ndim"
   ]
  },
  {
   "cell_type": "code",
   "execution_count": 75,
   "id": "b2d92dd9",
   "metadata": {
    "ExecuteTime": {
     "end_time": "2022-12-06T18:17:36.649053Z",
     "start_time": "2022-12-06T18:17:36.634317Z"
    }
   },
   "outputs": [
    {
     "data": {
      "text/plain": [
       "1"
      ]
     },
     "execution_count": 75,
     "metadata": {},
     "output_type": "execute_result"
    }
   ],
   "source": [
    "#print 1\n",
    "a[0,0]"
   ]
  },
  {
   "cell_type": "code",
   "execution_count": 77,
   "id": "9f1fa7ee",
   "metadata": {
    "ExecuteTime": {
     "end_time": "2022-12-06T18:18:21.704234Z",
     "start_time": "2022-12-06T18:18:21.692255Z"
    }
   },
   "outputs": [
    {
     "data": {
      "text/plain": [
       "6"
      ]
     },
     "execution_count": 77,
     "metadata": {},
     "output_type": "execute_result"
    }
   ],
   "source": [
    "# print 6\n",
    "a[1,2]"
   ]
  },
  {
   "cell_type": "code",
   "execution_count": 78,
   "id": "5a303e50",
   "metadata": {
    "ExecuteTime": {
     "end_time": "2022-12-06T18:20:04.917380Z",
     "start_time": "2022-12-06T18:20:04.897870Z"
    }
   },
   "outputs": [
    {
     "data": {
      "text/plain": [
       "array([2, 3])"
      ]
     },
     "execution_count": 78,
     "metadata": {},
     "output_type": "execute_result"
    }
   ],
   "source": [
    "# print 2 and 3 \n",
    "a[0,1:]"
   ]
  },
  {
   "cell_type": "code",
   "execution_count": 83,
   "id": "4cef9cc7",
   "metadata": {
    "ExecuteTime": {
     "end_time": "2022-12-06T18:23:25.117575Z",
     "start_time": "2022-12-06T18:23:25.106104Z"
    }
   },
   "outputs": [
    {
     "data": {
      "text/plain": [
       "array([[2, 3],\n",
       "       [5, 6]])"
      ]
     },
     "execution_count": 83,
     "metadata": {},
     "output_type": "execute_result"
    }
   ],
   "source": [
    "# print 2,3 and 5,6\n",
    "a[0:,1:]"
   ]
  },
  {
   "cell_type": "code",
   "execution_count": 84,
   "id": "74eeec9c",
   "metadata": {
    "ExecuteTime": {
     "end_time": "2022-12-06T18:24:47.975343Z",
     "start_time": "2022-12-06T18:24:47.961704Z"
    }
   },
   "outputs": [
    {
     "data": {
      "text/plain": [
       "array([[1, 2, 3],\n",
       "       [4, 5, 6]])"
      ]
     },
     "execution_count": 84,
     "metadata": {},
     "output_type": "execute_result"
    }
   ],
   "source": [
    "a"
   ]
  },
  {
   "cell_type": "code",
   "execution_count": 85,
   "id": "e6ef54ad",
   "metadata": {
    "ExecuteTime": {
     "end_time": "2022-12-06T18:30:00.354839Z",
     "start_time": "2022-12-06T18:30:00.338705Z"
    }
   },
   "outputs": [
    {
     "data": {
      "text/plain": [
       "array([1, 6])"
      ]
     },
     "execution_count": 85,
     "metadata": {},
     "output_type": "execute_result"
    }
   ],
   "source": [
    "# 1 and 6\n",
    "a[[0,1],[0,2]]"
   ]
  },
  {
   "cell_type": "code",
   "execution_count": 86,
   "id": "df858094",
   "metadata": {
    "ExecuteTime": {
     "end_time": "2022-12-06T18:31:17.387063Z",
     "start_time": "2022-12-06T18:31:17.375865Z"
    }
   },
   "outputs": [
    {
     "data": {
      "text/plain": [
       "array([3, 4])"
      ]
     },
     "execution_count": 86,
     "metadata": {},
     "output_type": "execute_result"
    }
   ],
   "source": [
    "# 3 and 4\n",
    "a[[0,1],[2,0]]"
   ]
  },
  {
   "cell_type": "markdown",
   "id": "bc871db1",
   "metadata": {},
   "source": [
    "# Reshaping the arrays \n",
    "Shape means number of rows and number cloumns"
   ]
  },
  {
   "cell_type": "code",
   "execution_count": 88,
   "id": "c020986a",
   "metadata": {
    "ExecuteTime": {
     "end_time": "2022-12-06T18:45:35.371032Z",
     "start_time": "2022-12-06T18:45:35.355162Z"
    }
   },
   "outputs": [
    {
     "data": {
      "text/plain": [
       "array([[0.73690183, 0.04285497],\n",
       "       [0.89126057, 0.90362136],\n",
       "       [0.13091291, 0.48998694],\n",
       "       [0.10337683, 0.26486596],\n",
       "       [0.61079592, 0.47776782]])"
      ]
     },
     "execution_count": 88,
     "metadata": {},
     "output_type": "execute_result"
    }
   ],
   "source": [
    "a=np.random.rand(5,2)\n",
    "a"
   ]
  },
  {
   "cell_type": "code",
   "execution_count": 89,
   "id": "d72d5305",
   "metadata": {
    "ExecuteTime": {
     "end_time": "2022-12-06T18:46:27.158366Z",
     "start_time": "2022-12-06T18:46:27.148594Z"
    }
   },
   "outputs": [
    {
     "data": {
      "text/plain": [
       "array([[0.73690183, 0.04285497, 0.89126057, 0.90362136, 0.13091291],\n",
       "       [0.48998694, 0.10337683, 0.26486596, 0.61079592, 0.47776782]])"
      ]
     },
     "execution_count": 89,
     "metadata": {},
     "output_type": "execute_result"
    }
   ],
   "source": [
    "a.reshape(2,5)"
   ]
  },
  {
   "cell_type": "code",
   "execution_count": 90,
   "id": "63d2bb5e",
   "metadata": {
    "ExecuteTime": {
     "end_time": "2022-12-06T18:47:11.042346Z",
     "start_time": "2022-12-06T18:47:11.029591Z"
    }
   },
   "outputs": [
    {
     "data": {
      "text/plain": [
       "array([[0.73690183],\n",
       "       [0.04285497],\n",
       "       [0.89126057],\n",
       "       [0.90362136],\n",
       "       [0.13091291],\n",
       "       [0.48998694],\n",
       "       [0.10337683],\n",
       "       [0.26486596],\n",
       "       [0.61079592],\n",
       "       [0.47776782]])"
      ]
     },
     "execution_count": 90,
     "metadata": {},
     "output_type": "execute_result"
    }
   ],
   "source": [
    "a.reshape(10,1)"
   ]
  },
  {
   "cell_type": "code",
   "execution_count": 91,
   "id": "f3b265d9",
   "metadata": {
    "ExecuteTime": {
     "end_time": "2022-12-06T18:47:39.230867Z",
     "start_time": "2022-12-06T18:47:39.215470Z"
    }
   },
   "outputs": [
    {
     "data": {
      "text/plain": [
       "array([[0.73690183, 0.04285497, 0.89126057, 0.90362136, 0.13091291,\n",
       "        0.48998694, 0.10337683, 0.26486596, 0.61079592, 0.47776782]])"
      ]
     },
     "execution_count": 91,
     "metadata": {},
     "output_type": "execute_result"
    }
   ],
   "source": [
    "a.reshape(1,10)"
   ]
  },
  {
   "cell_type": "code",
   "execution_count": 92,
   "id": "fb4ae5c9",
   "metadata": {
    "ExecuteTime": {
     "end_time": "2022-12-06T18:53:57.105536Z",
     "start_time": "2022-12-06T18:53:57.090733Z"
    }
   },
   "outputs": [
    {
     "data": {
      "text/plain": [
       "array([[0.73690183, 0.04285497],\n",
       "       [0.89126057, 0.90362136],\n",
       "       [0.13091291, 0.48998694],\n",
       "       [0.10337683, 0.26486596],\n",
       "       [0.61079592, 0.47776782]])"
      ]
     },
     "execution_count": 92,
     "metadata": {},
     "output_type": "execute_result"
    }
   ],
   "source": [
    "# we are not sure what is put in rows / columns then put (-1) in only rows as wll as columns. \n",
    "# don't put both rows and columns because it will gives error. .\n",
    "a.reshape(5,-1)"
   ]
  },
  {
   "cell_type": "code",
   "execution_count": 93,
   "id": "68daaca5",
   "metadata": {
    "ExecuteTime": {
     "end_time": "2022-12-06T18:54:19.647126Z",
     "start_time": "2022-12-06T18:54:19.635922Z"
    }
   },
   "outputs": [
    {
     "data": {
      "text/plain": [
       "array([[0.73690183, 0.04285497, 0.89126057, 0.90362136, 0.13091291],\n",
       "       [0.48998694, 0.10337683, 0.26486596, 0.61079592, 0.47776782]])"
      ]
     },
     "execution_count": 93,
     "metadata": {},
     "output_type": "execute_result"
    }
   ],
   "source": [
    "a.reshape(-1,5)"
   ]
  },
  {
   "cell_type": "markdown",
   "id": "58c8caa8",
   "metadata": {},
   "source": [
    "# Aggregate Functions\n",
    "* The Python numpy aggregate functions are sum, min, max, mean, average, product, median, standard deviation, variance, percentile, and corrcoef.\n"
   ]
  },
  {
   "cell_type": "code",
   "execution_count": 94,
   "id": "9bdf3ac1",
   "metadata": {
    "ExecuteTime": {
     "end_time": "2022-12-06T18:58:03.991551Z",
     "start_time": "2022-12-06T18:58:03.985093Z"
    }
   },
   "outputs": [
    {
     "data": {
      "text/plain": [
       "array([[0.73690183, 0.04285497],\n",
       "       [0.89126057, 0.90362136],\n",
       "       [0.13091291, 0.48998694],\n",
       "       [0.10337683, 0.26486596],\n",
       "       [0.61079592, 0.47776782]])"
      ]
     },
     "execution_count": 94,
     "metadata": {},
     "output_type": "execute_result"
    }
   ],
   "source": [
    "a"
   ]
  },
  {
   "cell_type": "code",
   "execution_count": 95,
   "id": "7dc3e76d",
   "metadata": {
    "ExecuteTime": {
     "end_time": "2022-12-06T18:58:36.103031Z",
     "start_time": "2022-12-06T18:58:36.089982Z"
    }
   },
   "outputs": [
    {
     "data": {
      "text/plain": [
       "0.04285497347395206"
      ]
     },
     "execution_count": 95,
     "metadata": {},
     "output_type": "execute_result"
    }
   ],
   "source": [
    "a.min()"
   ]
  },
  {
   "cell_type": "code",
   "execution_count": 96,
   "id": "69745398",
   "metadata": {
    "ExecuteTime": {
     "end_time": "2022-12-06T18:59:07.108261Z",
     "start_time": "2022-12-06T18:59:07.088975Z"
    }
   },
   "outputs": [
    {
     "data": {
      "text/plain": [
       "0.30507477722963133"
      ]
     },
     "execution_count": 96,
     "metadata": {},
     "output_type": "execute_result"
    }
   ],
   "source": [
    "a.std()"
   ]
  },
  {
   "cell_type": "code",
   "execution_count": 97,
   "id": "8f530805",
   "metadata": {
    "ExecuteTime": {
     "end_time": "2022-12-06T18:59:17.134265Z",
     "start_time": "2022-12-06T18:59:17.121051Z"
    }
   },
   "outputs": [
    {
     "data": {
      "text/plain": [
       "0.4652345114408969"
      ]
     },
     "execution_count": 97,
     "metadata": {},
     "output_type": "execute_result"
    }
   ],
   "source": [
    "a.mean()"
   ]
  },
  {
   "cell_type": "code",
   "execution_count": 98,
   "id": "771b0912",
   "metadata": {
    "ExecuteTime": {
     "end_time": "2022-12-06T18:59:41.704187Z",
     "start_time": "2022-12-06T18:59:41.679598Z"
    }
   },
   "outputs": [
    {
     "data": {
      "text/plain": [
       "0.09307061970170917"
      ]
     },
     "execution_count": 98,
     "metadata": {},
     "output_type": "execute_result"
    }
   ],
   "source": [
    "a.var()"
   ]
  },
  {
   "cell_type": "markdown",
   "id": "dacbaadd",
   "metadata": {},
   "source": [
    "# Stacking\n",
    "* Stacking is used to join 2 different arrays.\n",
    "1. Vertical stacking\n",
    "2. Horizontal stacking"
   ]
  },
  {
   "cell_type": "code",
   "execution_count": 101,
   "id": "de770c00",
   "metadata": {
    "ExecuteTime": {
     "end_time": "2022-12-06T19:04:37.084469Z",
     "start_time": "2022-12-06T19:04:37.078216Z"
    }
   },
   "outputs": [],
   "source": [
    "a=np.array([1,2,3,4,5])\n",
    "b=np.array([4,5,6,7,8])"
   ]
  },
  {
   "cell_type": "code",
   "execution_count": 102,
   "id": "0bf676d8",
   "metadata": {
    "ExecuteTime": {
     "end_time": "2022-12-06T19:05:06.941293Z",
     "start_time": "2022-12-06T19:05:06.928262Z"
    }
   },
   "outputs": [
    {
     "data": {
      "text/plain": [
       "array([1, 2, 3, 4, 5, 4, 5, 6, 7, 8])"
      ]
     },
     "execution_count": 102,
     "metadata": {},
     "output_type": "execute_result"
    }
   ],
   "source": [
    "np.hstack([a,b])"
   ]
  },
  {
   "cell_type": "code",
   "execution_count": 103,
   "id": "c8194941",
   "metadata": {
    "ExecuteTime": {
     "end_time": "2022-12-06T19:05:48.169204Z",
     "start_time": "2022-12-06T19:05:48.158032Z"
    }
   },
   "outputs": [
    {
     "data": {
      "text/plain": [
       "array([[1, 2, 3, 4, 5],\n",
       "       [4, 5, 6, 7, 8]])"
      ]
     },
     "execution_count": 103,
     "metadata": {},
     "output_type": "execute_result"
    }
   ],
   "source": [
    "np.vstack([a,b])"
   ]
  },
  {
   "cell_type": "code",
   "execution_count": 104,
   "id": "1af177a3",
   "metadata": {
    "ExecuteTime": {
     "end_time": "2022-12-06T19:06:13.320732Z",
     "start_time": "2022-12-06T19:06:13.302045Z"
    }
   },
   "outputs": [
    {
     "data": {
      "text/plain": [
       "array([4, 5, 6, 7, 8, 1, 2, 3, 4, 5])"
      ]
     },
     "execution_count": 104,
     "metadata": {},
     "output_type": "execute_result"
    }
   ],
   "source": [
    "np.hstack([b,a])"
   ]
  },
  {
   "cell_type": "code",
   "execution_count": null,
   "id": "01223257",
   "metadata": {},
   "outputs": [],
   "source": []
  }
 ],
 "metadata": {
  "kernelspec": {
   "display_name": "Python 3 (ipykernel)",
   "language": "python",
   "name": "python3"
  },
  "language_info": {
   "codemirror_mode": {
    "name": "ipython",
    "version": 3
   },
   "file_extension": ".py",
   "mimetype": "text/x-python",
   "name": "python",
   "nbconvert_exporter": "python",
   "pygments_lexer": "ipython3",
   "version": "3.9.13"
  }
 },
 "nbformat": 4,
 "nbformat_minor": 5
}
